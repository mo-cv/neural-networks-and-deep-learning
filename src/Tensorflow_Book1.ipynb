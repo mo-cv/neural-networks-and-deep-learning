{
 "cells": [
  {
   "cell_type": "code",
   "execution_count": 1,
   "metadata": {
    "collapsed": true,
    "deletable": true,
    "editable": true
   },
   "outputs": [],
   "source": [
    "import tensorflow as tf\n",
    "import numpy as np\n",
    "import matplotlib.pyplot as plt"
   ]
  },
  {
   "cell_type": "code",
   "execution_count": 3,
   "metadata": {
    "collapsed": false,
    "deletable": true,
    "editable": true
   },
   "outputs": [
    {
     "data": {
      "image/png": "[encoded data removed]",
      "text/plain": [
       "<matplotlib.figure.Figure at 0x81959e750>"
      ]
     },
     "metadata": {},
     "output_type": "display_data"
    }
   ],
   "source": [
    "%matplotlib inline\n",
    "a=tf.random_normal([2,20])\n",
    "sess=tf.Session()\n",
    "out=sess.run(a)\n",
    "x,y=out\n",
    "plt.scatter(x,y)\n",
    "plt.show()"
   ]
  },
  {
   "cell_type": "code",
   "execution_count": 3,
   "metadata": {
    "collapsed": true,
    "deletable": true,
    "editable": true
   },
   "outputs": [],
   "source": [
    "import tensorflow as tf"
   ]
  },
  {
   "cell_type": "code",
   "execution_count": 7,
   "metadata": {
    "collapsed": true,
    "deletable": true,
    "editable": true
   },
   "outputs": [],
   "source": [
    "import tensorflow as tf\n",
    "a=tf.constant(5,name=\"input_a\")\n",
    "b=tf.constant(3,name=\"input_b\")\n",
    "c=tf.multiply(a,b,name=\"mul_c\")\n",
    "d=tf.add(a,b,name=\"add_d\")\n",
    "e=tf.add(c,d,name=\"add_e\")\n",
    "sess=tf.Session()\n",
    "output=sess.run(e)\n",
    "writer=tf.summary.FileWriter('./my_graph',sess.graph)\n",
    "writer.close()\n",
    "sess.close()"
   ]
  },
  {
   "cell_type": "code",
   "execution_count": 13,
   "metadata": {
    "collapsed": false,
    "deletable": true,
    "editable": true
   },
   "outputs": [
    {
     "name": "stdout",
     "output_type": "stream",
     "text": [
      "Tensor(\"add_3:0\", shape=(), dtype=int32)\n",
      "8\n"
     ]
    }
   ],
   "source": [
    "import tensorflow as tf\n",
    "a=tf.constant(5,name=\"input_a\")\n",
    "b=tf.constant(3,name=\"input_b\")\n",
    "c=a+b\n",
    "print c\n",
    "sess=tf.Session()\n",
    "print sess.run(c)\n",
    "sess.close()"
   ]
  },
  {
   "cell_type": "code",
   "execution_count": 16,
   "metadata": {
    "collapsed": false,
    "deletable": true,
    "editable": true
   },
   "outputs": [
    {
     "name": "stdout",
     "output_type": "stream",
     "text": [
      "Tensor(\"add_dd:0\", shape=(), dtype=int32)\n",
      "8\n"
     ]
    }
   ],
   "source": [
    "c=tf.add(3,5,name=\"add_dd\")\n",
    "print c\n",
    "sess=tf.Session()\n",
    "print sess.run(c)\n",
    "sess.close()"
   ]
  },
  {
   "cell_type": "code",
   "execution_count": 18,
   "metadata": {
    "collapsed": false,
    "deletable": true,
    "editable": true
   },
   "outputs": [
    {
     "name": "stdout",
     "output_type": "stream",
     "text": [
      "45\n"
     ]
    }
   ],
   "source": [
    "a=tf.add(3,5)\n",
    "b=a*3\n",
    "sess=tf.Session()\n",
    "replace_dict={a:15}\n",
    "print sess.run(b,feed_dict=replace_dict)\n",
    "sess.close()"
   ]
  },
  {
   "cell_type": "code",
   "execution_count": 19,
   "metadata": {
    "collapsed": false,
    "deletable": true,
    "editable": true
   },
   "outputs": [
    {
     "name": "stdout",
     "output_type": "stream",
     "text": [
      "45\n"
     ]
    }
   ],
   "source": [
    "with tf.Session() as sess:\n",
    "    a=tf.add(3,5)\n",
    "    b=a*3\n",
    "    sess=tf.Session()\n",
    "    replace_dict={a:15}\n",
    "    print sess.run(b,feed_dict=replace_dict)"
   ]
  },
  {
   "cell_type": "code",
   "execution_count": 20,
   "metadata": {
    "collapsed": true,
    "deletable": true,
    "editable": true
   },
   "outputs": [],
   "source": [
    "import numpy as np"
   ]
  },
  {
   "cell_type": "code",
   "execution_count": 22,
   "metadata": {
    "collapsed": false,
    "deletable": true,
    "editable": true
   },
   "outputs": [
    {
     "name": "stdout",
     "output_type": "stream",
     "text": [
      "23\n"
     ]
    }
   ],
   "source": [
    "a=tf.placeholder(tf.int32,shape=[2],name=\"my_input\")\n",
    "b=tf.reduce_prod(a,name=\"prod_b\")\n",
    "c=tf.reduce_sum(a,name=\"sum_c\")\n",
    "d=tf.add(b,c,name=\"add_d\")\n",
    "with tf.Session() as sess:\n",
    "    input_dict={a: np.array([5,3], dtype=np.int32)}\n",
    "    print sess.run(d,feed_dict=input_dict)"
   ]
  },
  {
   "cell_type": "code",
   "execution_count": 42,
   "metadata": {
    "collapsed": false,
    "deletable": true,
    "editable": true
   },
   "outputs": [
    {
     "name": "stdout",
     "output_type": "stream",
     "text": [
      "Tensor(\"my_variable_17/read:0\", shape=(), dtype=int32)\n",
      "3\n"
     ]
    }
   ],
   "source": [
    "import tensorflow as tf\n",
    "my_var=tf.Variable(3,name=\"my_variable\")\n",
    "print my_var.value()\n",
    "init=tf.global_variables_initializer()\n",
    "sess=tf.Session()\n",
    "sess.run(init)\n",
    "print sess.run(my_var)\n",
    "sess.close()"
   ]
  },
  {
   "cell_type": "code",
   "execution_count": 43,
   "metadata": {
    "collapsed": false,
    "deletable": true,
    "editable": true
   },
   "outputs": [
    {
     "name": "stdout",
     "output_type": "stream",
     "text": [
      "[[ 0.  0.]\n",
      " [ 0.  0.]]\n"
     ]
    }
   ],
   "source": [
    "with tf.Session() as sess:\n",
    "    a=tf.Variable(tf.zeros([2,2]),name=\"mv1\")\n",
    "    init=tf.global_variables_initializer()\n",
    "    sess.run(init)\n",
    "    print sess.run(a)"
   ]
  },
  {
   "cell_type": "code",
   "execution_count": 44,
   "metadata": {
    "collapsed": false,
    "deletable": true,
    "editable": true
   },
   "outputs": [
    {
     "name": "stdout",
     "output_type": "stream",
     "text": [
      "[ 1.  1.  1.  1.  1.  1.]\n"
     ]
    }
   ],
   "source": [
    "with tf.Session() as sess:\n",
    "    a=tf.Variable(tf.ones([6]),name=\"mv2\")\n",
    "    init=tf.global_variables_initializer()\n",
    "    sess.run(init)\n",
    "    print sess.run(a)"
   ]
  },
  {
   "cell_type": "code",
   "execution_count": 2,
   "metadata": {
    "collapsed": false,
    "deletable": true,
    "editable": true
   },
   "outputs": [
    {
     "name": "stdout",
     "output_type": "stream",
     "text": [
      "22\n",
      "44\n",
      "22\n",
      "44\n"
     ]
    }
   ],
   "source": [
    "my_v=tf.Variable(11)\n",
    "my_v2=my_v.assign(my_v*2)\n",
    "init=tf.global_variables_initializer()\n",
    "with tf.Session() as sess:\n",
    "    sess.run(init)\n",
    "    print sess.run(my_v2)\n",
    "    print sess.run(my_v2)\n",
    "with tf.Session() as sess:\n",
    "    sess.run(init)\n",
    "    print sess.run(my_v2)\n",
    "    print sess.run(my_v2)"
   ]
  },
  {
   "cell_type": "code",
   "execution_count": 6,
   "metadata": {
    "collapsed": false,
    "deletable": true,
    "editable": true
   },
   "outputs": [
    {
     "name": "stdout",
     "output_type": "stream",
     "text": [
      "[6 8]\n"
     ]
    }
   ],
   "source": [
    "import tensorflow as tf\n",
    "import numpy as np\n",
    "a=np.array([2,3],dtype=np.int32)\n",
    "b=np.array([4,5],dtype=np.int32)\n",
    "c=tf.add(a,b,name=\"my_add_op\")\n",
    "with tf.Session() as sess:\n",
    "    print sess.run(c)"
   ]
  },
  {
   "cell_type": "code",
   "execution_count": null,
   "metadata": {
    "collapsed": true
   },
   "outputs": [],
   "source": [
    "import tensorflow as tf\n",
    "grahp=tf.Graph()\n",
    "with grahp.as_default():\n",
    "    with tf.name_scope('variables'):\n",
    "        global_step=tf.Variable(0,dtype=tf.int32,trainable=False,name=\"global_step\")\n",
    "        total_output=tf.Variable(0.0,dtype=tf.float32,trainable=False,name=\"total_output\")\n",
    "    with tf.name_scope(\"input\"):\n",
    "        a=tf.placeholder(tf.float32,shape=[None],name=\"input_placeholder_a\")\n",
    "    with tf.name_scope(intermediate_layer):\n",
    "        b=tf.reduce_prod(a,name=\"product_b\")\n",
    "        c=tf.reduce_sum(a,name=\"sum_c\")\n",
    "    with tf.name_scope(\"output\"):\n",
    "        output=tf.add(b,c,name=\"output\")\n",
    "    with tf.name_scope(\"update\"):\n",
    "        update_total=total_output.assign_add(output)\n",
    "        increment_step=global_step.assign_add(1)\n",
    "    with tf.name_scope(\"summaries\"):\n",
    "        avg=tf.div(update_total,tf.cast(increment_step,tf.float32),name=\"average\")\n",
    "        tf.summary.scalar(b'Output',output,name=\"output_summary\")\n",
    "        tf.summary.scalar(b'Sum of outputs over time',update_total,name=\"total_summary\")\n",
    "        tf.summary.scalar(b'Average of outputs over time',avg,name=\"average_summary\")\n",
    "        "
   ]
  }
 ],
 "metadata": {
  "kernelspec": {
   "display_name": "Python 2",
   "language": "python",
   "name": "python2"
  },
  "language_info": {
   "codemirror_mode": {
    "name": "ipython",
    "version": 2
   },
   "file_extension": ".py",
   "mimetype": "text/x-python",
   "name": "python",
   "nbconvert_exporter": "python",
   "pygments_lexer": "ipython2",
   "version": "2.7.13"
  }
 },
 "nbformat": 4,
 "nbformat_minor": 2
}
